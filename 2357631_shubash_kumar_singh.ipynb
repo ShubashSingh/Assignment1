{
  "nbformat": 4,
  "nbformat_minor": 0,
  "metadata": {
    "colab": {
      "provenance": []
    },
    "kernelspec": {
      "name": "python3",
      "display_name": "Python 3"
    },
    "language_info": {
      "name": "python"
    }
  },
  "cells": [
    {
      "cell_type": "markdown",
      "source": [
        "**3 Tasks - To - Do:**\n",
        "\n",
        "**3.1 Problem - 1: Getting Started with Data Exploration - Some Warm up**\n",
        "**Exercises:**\n",
        "\n",
        "**1. Data Exploration and Understanding:**\n",
        "\n",
        "**• Dataset Overview:**\n",
        "1. Load the dataset and display the first 10 rows.\n",
        "2. Identify the number of rows and columns in the dataset.\n",
        "3. List all the columns and their data types."
      ],
      "metadata": {
        "id": "l3M2Y5Q8ffS0"
      }
    },
    {
      "cell_type": "code",
      "source": [
        "import pandas as pd\n",
        "\n",
        "# Load the dataset\n",
        "dataset_path = '/content/drive/MyDrive/WHR-2024-5CS037.csv'\n",
        "df = pd.read_csv(dataset_path)\n",
        "\n",
        "# 1. Display the first 10 rows\n",
        "print(\"First 10 rows of the dataset:\")\n",
        "print(df.head(10))\n",
        "\n",
        "# 2. Identify the number of rows and columns\n",
        "num_rows, num_columns = df.shape\n",
        "print(f\"\\nNumber of rows: {num_rows}\")\n",
        "print(f\"Number of columns: {num_columns}\")\n",
        "\n",
        "# 3. List all columns and their data types\n",
        "print(\"\\nColumns and their data types:\")\n",
        "print(df.dtypes)\n"
      ],
      "metadata": {
        "colab": {
          "base_uri": "https://localhost:8080/"
        },
        "id": "CRjWpf3HlG_m",
        "outputId": "1862607e-ed19-46d2-c08d-8d0b4e248a45"
      },
      "execution_count": 12,
      "outputs": [
        {
          "output_type": "stream",
          "name": "stdout",
          "text": [
            "First 10 rows of the dataset:\n",
            "  Country name  score  Log GDP per capita  Social support  \\\n",
            "0      Finland  7.741               1.844           1.572   \n",
            "1      Denmark  7.583               1.908           1.520   \n",
            "2      Iceland  7.525               1.881           1.617   \n",
            "3       Sweden  7.344               1.878           1.501   \n",
            "4       Israel  7.341               1.803           1.513   \n",
            "5  Netherlands  7.319               1.901           1.462   \n",
            "6       Norway  7.302               1.952           1.517   \n",
            "7   Luxembourg  7.122               2.141           1.355   \n",
            "8  Switzerland  7.060               1.970           1.425   \n",
            "9    Australia  7.057               1.854           1.461   \n",
            "\n",
            "   Healthy life expectancy  Freedom to make life choices  Generosity  \\\n",
            "0                    0.695                         0.859       0.142   \n",
            "1                    0.699                         0.823       0.204   \n",
            "2                    0.718                         0.819       0.258   \n",
            "3                    0.724                         0.838       0.221   \n",
            "4                    0.740                         0.641       0.153   \n",
            "5                    0.706                         0.725       0.247   \n",
            "6                    0.704                         0.835       0.224   \n",
            "7                    0.708                         0.801       0.146   \n",
            "8                    0.747                         0.759       0.173   \n",
            "9                    0.692                         0.756       0.225   \n",
            "\n",
            "   Perceptions of corruption  Dystopia + residual  \n",
            "0                      0.546                2.082  \n",
            "1                      0.548                1.881  \n",
            "2                      0.182                2.050  \n",
            "3                      0.524                1.658  \n",
            "4                      0.193                2.298  \n",
            "5                      0.372                1.906  \n",
            "6                      0.484                1.586  \n",
            "7                      0.432                1.540  \n",
            "8                      0.498                1.488  \n",
            "9                      0.323                1.745  \n",
            "\n",
            "Number of rows: 143\n",
            "Number of columns: 9\n",
            "\n",
            "Columns and their data types:\n",
            "Country name                     object\n",
            "score                           float64\n",
            "Log GDP per capita              float64\n",
            "Social support                  float64\n",
            "Healthy life expectancy         float64\n",
            "Freedom to make life choices    float64\n",
            "Generosity                      float64\n",
            "Perceptions of corruption       float64\n",
            "Dystopia + residual             float64\n",
            "dtype: object\n"
          ]
        }
      ]
    },
    {
      "cell_type": "markdown",
      "source": [
        "Import Libraries: The pandas library is imported to handle and analyze the dataset.\n",
        "\n",
        "Load Dataset: The pd.read_csv() function loads the dataset from a specified file path into a DataFrame (df).\n",
        "\n",
        "Display Rows: df.head(10) prints the first 10 rows to give a quick view of the data.\n",
        "\n",
        "Dataset Dimensions: df.shape retrieves the number of rows and columns in the dataset.\n",
        "\n",
        "Column Details: df.dtypes lists all column names and their respective data types (e.g., integer, float, string)."
      ],
      "metadata": {
        "id": "w3QDSInbmiov"
      }
    },
    {
      "cell_type": "markdown",
      "source": [
        "**• Basic Statistics:**\n",
        "1. Calculate the mean, median, and standard deviation for the Score column.\n",
        "2. Identify the country with the highest and lowest happiness scores."
      ],
      "metadata": {
        "id": "hhUh_wz1m_v5"
      }
    },
    {
      "cell_type": "code",
      "source": [
        "# Calculate the mean, median, and standard deviation for the 'Score' column\n",
        "mean_score = df['Score'].mean()  # Mean of the Score column\n",
        "median_score = df['Score'].median()  # Median of the Score column\n",
        "std_dev_score = df['Score'].std()  # Standard deviation of the Score column\n",
        "\n",
        "# Print the results\n",
        "print(f\"Mean Score: {mean_score}\")\n",
        "print(f\"Median Score: {median_score}\")\n",
        "print(f\"Standard Deviation of Score: {std_dev_score}\")\n"
      ],
      "metadata": {
        "id": "Cc42VGiJpBDZ"
      },
      "execution_count": null,
      "outputs": []
    },
    {
      "cell_type": "markdown",
      "source": [
        "**Missing Values:**\n",
        "1. Check if there are any missing values in the dataset. If so, display the total count for each column."
      ],
      "metadata": {
        "id": "yHcV4yGym_Im"
      }
    },
    {
      "cell_type": "code",
      "source": [
        "# Check for missing values in the dataset\n",
        "missing_values = df.isnull().sum()\n",
        "\n",
        "print(\"Missing values in each column:\")\n",
        "print(missing_values)\n"
      ],
      "metadata": {
        "colab": {
          "base_uri": "https://localhost:8080/"
        },
        "id": "4JW3CmhqpJ-m",
        "outputId": "e98483ed-3117-448e-9503-1c41407027e5"
      },
      "execution_count": 6,
      "outputs": [
        {
          "output_type": "stream",
          "name": "stdout",
          "text": [
            "Missing values in each column:\n",
            "Country name                    0\n",
            "score                           0\n",
            "Log GDP per capita              3\n",
            "Social support                  3\n",
            "Healthy life expectancy         3\n",
            "Freedom to make life choices    3\n",
            "Generosity                      3\n",
            "Perceptions of corruption       3\n",
            "Dystopia + residual             3\n",
            "dtype: int64\n"
          ]
        }
      ]
    },
    {
      "cell_type": "markdown",
      "source": [
        "df.isnull():\n",
        "Identifies all missing values in the DataFrame. Each cell is marked as True if it contains a missing value (NaN) and False otherwise.\n",
        "\n",
        "sum():\n",
        "Sums up the True values for each column, giving the total count of missing values in that column."
      ],
      "metadata": {
        "id": "jFZnmiSBpdLb"
      }
    },
    {
      "cell_type": "markdown",
      "source": [
        "**Filtering and Sorting:**\n",
        "1. Filter the dataset to show only the countries with a Score greater than 7.5.\n",
        "2. For the filtered dataset - Sort the dataset by GDP per Capita in descending order and display the\n",
        "top 10 rows."
      ],
      "metadata": {
        "id": "VE1YfwhXppbF"
      }
    },
    {
      "cell_type": "code",
      "source": [
        "# Filter the dataset to include only countries with Score > 7.5\n",
        "filtered_df = df[df['Score'] > 7.5]\n",
        "\n",
        "# Sort the filtered dataset by GDP per Capita in descending order\n",
        "sorted_df = filtered_df.sort_values(by='GDP per Capita', ascending=False)\n",
        "\n",
        "# Display the top 10 rows\n",
        "top_10_sorted = sorted_df.head(10)\n",
        "print(\"Top 10 countries with Score > 7.5, sorted by GDP per Capita:\")\n",
        "print(top_10_sorted)\n"
      ],
      "metadata": {
        "id": "DgTAMuktpkZC"
      },
      "execution_count": null,
      "outputs": []
    },
    {
      "cell_type": "markdown",
      "source": [
        "**Adding New Columns:**\n",
        "1. Create a new column called Happiness Category that categorizes countries into three categories\n",
        "based on their Score:\n",
        "\n",
        "Low − (Score < 4)\n",
        "\n",
        "Medium − (4 ≤ Score ≤ 6)\n",
        "\n",
        "High − (Score > 6)"
      ],
      "metadata": {
        "id": "TYCT70phqryc"
      }
    },
    {
      "cell_type": "code",
      "source": [
        "# Define a function to categorize countries based on their Score\n",
        "def categorize_happiness(score):\n",
        "    if score < 4:\n",
        "        return 'Low'\n",
        "    elif 4 <= score <= 6:\n",
        "        return 'Medium'\n",
        "    else:\n",
        "        return 'High'\n",
        "\n",
        "# Apply the function to create the 'Happiness Category' column\n",
        "df['Happiness Category'] = df['Score'].apply(categorize_happiness)\n",
        "\n",
        "# Display the updated DataFrame with the new column\n",
        "print(\"\\nDataset with the new 'Happiness Category' column:\")\n",
        "print(df[['Country', 'Score', 'Happiness Category']].head())\n"
      ],
      "metadata": {
        "id": "tycC5TgHq2BC"
      },
      "execution_count": null,
      "outputs": []
    },
    {
      "cell_type": "markdown",
      "source": [
        "**2. Data Visualizations:**\n",
        "\n",
        "• Bar Plot: Plot the top 10 happiest countries by Score using a bar chart.\n",
        "\n",
        "• Line Plot: Plot the top 10 unhappiest countries by Score using a Line chart.\n",
        "\n",
        "• Plot a histogram for the Score column to show its distribution and also interpret.\n",
        "\n",
        "• Scatter Plot: Plot a scatter plot between GDP per Capita and Score to visualize their relationship."
      ],
      "metadata": {
        "id": "qhcZBWpMrH6w"
      }
    },
    {
      "cell_type": "code",
      "source": [
        "# Define a function to categorize countries based on their Score\n",
        "def categorize_happiness(score):\n",
        "    if score < 4:\n",
        "        return 'Low'\n",
        "    elif 4 <= score <= 6:\n",
        "        return 'Medium'\n",
        "    else:\n",
        "        return 'High'\n",
        "\n",
        "# Apply the function to create the 'Happiness Category' column\n",
        "df['Happiness Category'] = df['Score'].apply(categorize_happiness)\n",
        "\n",
        "# Display the updated DataFrame with the new column\n",
        "print(\"\\nDataset with the new 'Happiness Category' column:\")\n",
        "print(df[['Country', 'Score', 'Happiness Category']].head())\n"
      ],
      "metadata": {
        "id": "haQ-MNlirOJN"
      },
      "execution_count": null,
      "outputs": []
    },
    {
      "cell_type": "markdown",
      "source": [
        "**3.2 Problem - 2 - Some Advance Data Exploration Task:**\n",
        "\n",
        "**Task - 1 - Setup Task - Preparing the South-Asia Dataset:**\n",
        "\n",
        "Steps:\n",
        "1. Define the countries in South Asia with a list for example:\n",
        "south asian countries = [\"Afghanistan\", \"Bangladesh\", \"Bhutan\", \"India\",\n",
        "\"Maldives\", \"Nepal\", \"Pakistan\", \"Srilanka\"]\n",
        "2. Use the list from step - 1 to filtered the dataset {i.e. filtered out matching dataset from list.}\n",
        "3. Save the filtered dataframe as separate CSV files for future use."
      ],
      "metadata": {
        "id": "2kHDs9FJvg6O"
      }
    },
    {
      "cell_type": "code",
      "source": [
        "# Step 1: Define the list of South Asian countries\n",
        "south_asian_countries = [\"Afghanistan\", \"Bangladesh\", \"Bhutan\", \"India\", \"Maldives\", \"Nepal\", \"Pakistan\", \"Sri Lanka\"]\n",
        "\n",
        "# Step 2: Filter the dataset to include only countries in the South Asia list\n",
        "south_asia_df = df[df['Country'].isin(south_asian_countries)]\n",
        "\n",
        "# Step 3: Save the filtered DataFrame to a separate CSV file\n",
        "south_asia_df.to_csv('south_asia_dataset.csv', index=False)\n",
        "\n",
        "# Print a message to confirm\n",
        "print(\"South Asia dataset has been saved as 'south_asia_dataset.csv'.\")\n"
      ],
      "metadata": {
        "id": "EHvjJibVwc0t"
      },
      "execution_count": null,
      "outputs": []
    },
    {
      "cell_type": "markdown",
      "source": [
        "**Task - 2 - Composite Score Ranking:**\n",
        "\n",
        "Tasks:\n",
        "1. Using the SouthAsia DataFrame, create a new column called Composite Score that combines the\n",
        "following metrics:\n",
        "\n",
        "Composite Score = 0.40 × GDP per Capita + 0.30 × Social Support\n",
        "\n",
        "+ 0.30 × Healthy Life Expectancy\n",
        "2. Rank the South Asian countries based on the Composite Score in descending order.\n",
        "3. Visualize the top 5 countries using a horizontal bar chart showing the Composite Score.\n",
        "4. Discuss whether the rankings based on the Composite Score align with the original Score - support your\n",
        "discussion with some visualization plot."
      ],
      "metadata": {
        "id": "9OLImj7Oyrqt"
      }
    },
    {
      "cell_type": "code",
      "source": [
        "#Step 1: Create the Composite Score Column\n",
        "south_asia_df['Composite Score'] = (\n",
        "    0.40 * south_asia_df['GDP per Capita'] +\n",
        "    0.30 * south_asia_df['Social Support'] +\n",
        "    0.30 * south_asia_df['Healthy Life Expectancy']\n",
        ")\n"
      ],
      "metadata": {
        "id": "lgLshk2iy3gd"
      },
      "execution_count": 1,
      "outputs": []
    },
    {
      "cell_type": "code",
      "source": [
        "#Step 2: Rank the South Asian Countries\n",
        "south_asia_df = south_asia_df.sort_values(by='Composite Score', ascending=False).reset_index(drop=True)\n"
      ],
      "metadata": {
        "id": "axEQ_lN8zWj4"
      },
      "execution_count": 2,
      "outputs": []
    },
    {
      "cell_type": "code",
      "source": [
        "#Step 3: Visualize the Top 5 Countries\n",
        "import matplotlib.pyplot as plt\n",
        "\n",
        "# Select the top 5 countries\n",
        "top_5_countries = south_asia_df.head(5)\n",
        "\n",
        "# Plot the horizontal bar chart\n",
        "plt.barh(top_5_countries['Country'], top_5_countries['Composite Score'], color='skyblue')\n",
        "plt.xlabel('Composite Score')\n",
        "plt.ylabel('Country')\n",
        "plt.title('Top 5 South Asian Countries by Composite Score')\n",
        "plt.gca().invert_yaxis()  # Invert y-axis for better visualization\n",
        "plt.show()\n"
      ],
      "metadata": {
        "id": "FO3zQ-aEzu_v"
      },
      "execution_count": 3,
      "outputs": []
    },
    {
      "cell_type": "code",
      "source": [
        "#Step 4: Compare Composite Score Rankings with Original Score\n",
        "# Top 5 countries by original Score\n",
        "top_5_original = south_asia_df.nlargest(5, 'Score')\n",
        "\n",
        "# Plot comparison\n",
        "fig, ax = plt.subplots(1, 2, figsize=(12, 6))\n",
        "\n",
        "# Composite Score Bar Chart\n",
        "ax[0].barh(top_5_countries['Country'], top_5_countries['Composite Score'], color='skyblue')\n",
        "ax[0].set_title('Top 5 by Composite Score')\n",
        "ax[0].set_xlabel('Composite Score')\n",
        "ax[0].invert_yaxis()\n",
        "\n",
        "# Original Score Bar Chart\n",
        "ax[1].barh(top_5_original['Country'], top_5_original['Score'], color='lightgreen')\n",
        "ax[1].set_title('Top 5 by Original Happiness Score')\n",
        "ax[1].set_xlabel('Happiness Score')\n",
        "ax[1].invert_yaxis()\n",
        "\n",
        "plt.tight_layout()\n",
        "plt.show()\n"
      ],
      "metadata": {
        "id": "GtZizWGMz7yz"
      },
      "execution_count": null,
      "outputs": []
    },
    {
      "cell_type": "markdown",
      "source": [
        "**Task - 3 - Outlier Detection:**\n",
        "\n",
        "Tasks:\n",
        "1. Identify outlier countries in South Asia based on their Score and GDP per Capita.\n",
        "2. Define outliers using the 1.5 × IQR rule.\n",
        "3. Create a scatter plot with GDP per Capita on the x-axis and Score on the y-axis, highlighting outliers\n",
        "in a different color.\n",
        "4. Discuss the characteristics of these outliers and their potential impact on regional averages."
      ],
      "metadata": {
        "id": "_yrECeT90XQo"
      }
    },
    {
      "cell_type": "code",
      "source": [
        "#Step 1: Identify Outliers Based on Score and GDP per Capita\n",
        "def detect_outliers(df, column):\n",
        "    Q1 = df[column].quantile(0.25)\n",
        "    Q3 = df[column].quantile(0.75)\n",
        "    IQR = Q3 - Q1\n",
        "    lower_bound = Q1 - 1.5 * IQR\n",
        "    upper_bound = Q3 + 1.5 * IQR\n",
        "    outliers = df[(df[column] < lower_bound) | (df[column] > upper_bound)]\n",
        "    return outliers, lower_bound, upper_bound\n",
        "\n",
        "# Identify outliers for Score\n",
        "score_outliers, score_lower, score_upper = detect_outliers(south_asia_df, 'Score')\n",
        "\n",
        "# Identify outliers for GDP per Capita\n",
        "gdp_outliers, gdp_lower, gdp_upper = detect_outliers(south_asia_df, 'GDP per Capita')\n"
      ],
      "metadata": {
        "id": "pRvX-V1S0c0w"
      },
      "execution_count": null,
      "outputs": []
    },
    {
      "cell_type": "code",
      "source": [
        "#Step 2: Highlight Outliers\n",
        "import matplotlib.pyplot as plt\n",
        "\n",
        "# Mark all data points\n",
        "plt.scatter(south_asia_df['GDP per Capita'], south_asia_df['Score'], label='Data Points', alpha=0.7)\n",
        "\n",
        "# Highlight Score outliers\n",
        "plt.scatter(score_outliers['GDP per Capita'], score_outliers['Score'],\n",
        "            color='red', label='Score Outliers', edgecolor='black')\n",
        "\n",
        "# Highlight GDP per Capita outliers\n",
        "plt.scatter(gdp_outliers['GDP per Capita'], gdp_outliers['Score'],\n",
        "            color='orange', label='GDP Outliers', edgecolor='black')\n",
        "\n",
        "# Labels and legend\n",
        "plt.xlabel('GDP per Capita')\n",
        "plt.ylabel('Happiness Score')\n",
        "plt.title('Outlier Detection in South Asia')\n",
        "plt.legend()\n",
        "plt.grid(alpha=0.5)\n",
        "plt.show()\n"
      ],
      "metadata": {
        "id": "ZVDqDVBo1Gqc"
      },
      "execution_count": null,
      "outputs": []
    },
    {
      "cell_type": "markdown",
      "source": [
        "Step 3: Discussion on Outliers\n",
        "\n",
        "Characteristics of Outliers:\n",
        "Score Outliers:\n",
        "Countries with exceptionally high or low happiness scores compared to others.\n",
        "Example: A country with a score significantly below or above the regional average.\n",
        "GDP Outliers:\n",
        "Countries with extremely high or low GDP per capita.\n",
        "Example: Wealthier or poorer nations with large disparities in economic conditions.\n",
        "Potential Impact on Regional Averages:\n",
        "Influence on Metrics:\n",
        "\n",
        "Outliers can skew the average, creating a distorted perception of the overall region's performance.\n",
        "For instance, a single high GDP country can raise the average GDP per capita, masking challenges faced by lower-performing countries.\n",
        "Policy Implications:\n",
        "\n",
        "Identifying outliers helps policymakers understand deviations and allocate resources or interventions appropriately."
      ],
      "metadata": {
        "id": "JwOY3A3K5g5l"
      }
    },
    {
      "cell_type": "markdown",
      "source": [
        "**Task - 4 - Exploring Trends Across Metrics:**\n",
        "\n",
        "Tasks:\n",
        "1. Choose two metrics (e.g., Freedom to Make Life Choices and Generosity) and calculate their correlation\n",
        "{pearson correlation} with the Score for South Asian countries.\n",
        "2. Create scatter plots with trendlines for these metrics against the Score.\n",
        "3. Identify and discuss the strongest and weakest relationships between these metrics and the Score for\n",
        "South Asian countries."
      ],
      "metadata": {
        "id": "SDBLnpNU4eTx"
      }
    },
    {
      "cell_type": "code",
      "source": [
        "#Step 1: Calculate Pearson Correlation\n",
        "# Calculate Pearson correlation\n",
        "freedom_corr = south_asia_df['Freedom to Make Life Choices'].corr(south_asia_df['Score'])\n",
        "generosity_corr = south_asia_df['Generosity'].corr(south_asia_df['Score'])\n",
        "\n",
        "print(f\"Correlation with Freedom to Make Life Choices: {freedom_corr:.2f}\")\n",
        "print(f\"Correlation with Generosity: {generosity_corr:.2f}\")\n"
      ],
      "metadata": {
        "id": "1GVt26Fn4O1k"
      },
      "execution_count": null,
      "outputs": []
    },
    {
      "cell_type": "code",
      "source": [
        "#Step 2: Scatter Plots with Trendlines\n",
        "import seaborn as sns\n",
        "import matplotlib.pyplot as plt\n",
        "\n",
        "# Scatter plot for Freedom to Make Life Choices\n",
        "plt.figure(figsize=(10, 5))\n",
        "sns.regplot(x='Freedom to Make Life Choices', y='Score', data=south_asia_df,\n",
        "            scatter_kws={'color': 'blue', 'alpha': 0.6}, line_kws={'color': 'red'})\n",
        "plt.title('Score vs Freedom to Make Life Choices')\n",
        "plt.xlabel('Freedom to Make Life Choices')\n",
        "plt.ylabel('Happiness Score')\n",
        "plt.grid(alpha=0.3)\n",
        "plt.show()\n",
        "\n",
        "# Scatter plot for Generosity\n",
        "plt.figure(figsize=(10, 5))\n",
        "sns.regplot(x='Generosity', y='Score', data=south_asia_df,\n",
        "            scatter_kws={'color': 'green', 'alpha': 0.6}, line_kws={'color': 'red'})\n",
        "plt.title('Score vs Generosity')\n",
        "plt.xlabel('Generosity')\n",
        "plt.ylabel('Happiness Score')\n",
        "plt.grid(alpha=0.3)\n",
        "plt.show()\n"
      ],
      "metadata": {
        "id": "HQtIkAa-4xa9"
      },
      "execution_count": null,
      "outputs": []
    },
    {
      "cell_type": "markdown",
      "source": [
        "Step 3: Discussion of Results\n",
        "\n",
        "Strongest Relationship:\n",
        "\n",
        "The metric with the highest absolute correlation with the Score indicates the strongest relationship.\n",
        "For instance, if Freedom to Make Life Choices has a higher correlation (e.g., 0.65), it suggests that countries with higher freedom tend to have higher happiness scores.\n",
        "Weakest Relationship:\n",
        "\n",
        "The metric with the lower absolute correlation reflects a weaker association with Score.\n",
        "If Generosity has a lower correlation (e.g., 0.15), it implies that generosity has a limited direct influence on happiness scores in the region.\n",
        "Insights:\n",
        "\n",
        "Freedom to Make Life Choices: A stronger correlation suggests that empowering individuals with choices significantly contributes to perceived happiness.\n",
        "Generosity: A weaker correlation might indicate cultural, economic, or social factors that moderate its impact on happiness."
      ],
      "metadata": {
        "id": "lv6--CJz5LUb"
      }
    },
    {
      "cell_type": "markdown",
      "source": [
        "**Task - 5 - Gap Analysis:**\n",
        "\n",
        "Tasks:\n",
        "1. Add a new column, GDP-Score Gap, which is the difference between GDP per Capita and the Score\n",
        "for each South Asian country.\n",
        "2. Rank the South Asian countries by this gap in both ascending and descending order.\n",
        "3. Highlight the top 3 countries with the largest positive and negative gaps using a bar chart.\n",
        "4. Analyze the reasons behind these gaps and their implications for South Asian countries."
      ],
      "metadata": {
        "id": "JoVD77X25km-"
      }
    },
    {
      "cell_type": "code",
      "source": [
        "#Step 1: Add a New Column for GDP-Score Gap\n",
        "# Add a new column for GDP-Score Gap\n",
        "south_asia_df['GDP-Score Gap'] = south_asia_df['GDP per Capita'] - south_asia_df['Score']\n",
        "\n",
        "# Display the updated DataFrame\n",
        "south_asia_df[['Country', 'GDP per Capita', 'Score', 'GDP-Score Gap']].head()\n"
      ],
      "metadata": {
        "id": "mAc2wm4s50bQ"
      },
      "execution_count": null,
      "outputs": []
    },
    {
      "cell_type": "code",
      "source": [
        "#Step 2: Rank Countries by GDP-Score Gap\n",
        "# Sort the DataFrame by GDP-Score Gap in ascending and descending order\n",
        "ascending_gap = south_asia_df.sort_values(by='GDP-Score Gap', ascending=True)\n",
        "descending_gap = south_asia_df.sort_values(by='GDP-Score Gap', ascending=False)\n",
        "\n",
        "# Display the top 3 countries with the largest positive and negative gaps\n",
        "top_positive_gaps = descending_gap[['Country', 'GDP-Score Gap']].head(3)\n",
        "top_negative_gaps = ascending_gap[['Country', 'GDP-Score Gap']].head(3)\n",
        "\n",
        "print(\"Top 3 Countries with Largest Positive Gaps:\")\n",
        "print(top_positive_gaps)\n",
        "print(\"\\nTop 3 Countries with Largest Negative Gaps:\")\n",
        "print(top_negative_gaps)\n"
      ],
      "metadata": {
        "id": "qLZ2_sAu7Oni"
      },
      "execution_count": null,
      "outputs": []
    },
    {
      "cell_type": "code",
      "source": [
        "#Step 3: Visualize Top 3 Countries with Largest Positive and Negative Gaps\n",
        "import matplotlib.pyplot as plt\n",
        "\n",
        "# Bar chart for largest positive gaps\n",
        "plt.figure(figsize=(10, 5))\n",
        "plt.bar(top_positive_gaps['Country'], top_positive_gaps['GDP-Score Gap'], color='green')\n",
        "plt.title('Top 3 Countries with Largest Positive GDP-Score Gaps')\n",
        "plt.xlabel('Country')\n",
        "plt.ylabel('GDP-Score Gap')\n",
        "plt.grid(alpha=0.3)\n",
        "plt.show()\n",
        "\n",
        "# Bar chart for largest negative gaps\n",
        "plt.figure(figsize=(10, 5))\n",
        "plt.bar(top_negative_gaps['Country'], top_negative_gaps['GDP-Score Gap'], color='red')\n",
        "plt.title('Top 3 Countries with Largest Negative GDP-Score Gaps')\n",
        "plt.xlabel('Country')\n",
        "plt.ylabel('GDP-Score Gap')\n",
        "plt.grid(alpha=0.3)\n",
        "plt.show()\n"
      ],
      "metadata": {
        "id": "8M4I066P7cGs"
      },
      "execution_count": null,
      "outputs": []
    },
    {
      "cell_type": "markdown",
      "source": [
        "Step 4: Analysis of Gaps and Implications\n",
        "Analysis:\n",
        "\n",
        "Positive Gaps:\n",
        "\n",
        "Countries with high GDP per Capita but relatively lower happiness scores.\n",
        "Possible reasons:\n",
        "Economic growth may not translate into perceived well-being due to inequality, lack of social support, or environmental challenges.\n",
        "Implication: Policymakers should focus on improving factors like social support and personal freedom to align economic prosperity with happiness.\n",
        "Negative Gaps:\n",
        "\n",
        "Countries with lower GDP per Capita but relatively high happiness scores.\n",
        "Possible reasons:\n",
        "Strong social support networks, cultural factors, or efficient use of resources.\n",
        "Implication: Highlights the importance of non-economic factors in driving happiness, serving as a model for other nations in the region.\n",
        "Key Insights:\n",
        "\n",
        "The gap analysis provides actionable insights for governments in South Asia to prioritize policies addressing well-being disparities.\n",
        "Positive gaps indicate opportunities to improve social cohesion and address income inequality.\n",
        "Negative gaps showcase how social and cultural resilience can drive happiness even in economically constrained settings."
      ],
      "metadata": {
        "id": "PRfQOCtX7ulC"
      }
    },
    {
      "cell_type": "markdown",
      "source": [
        "**3.3 Problem - 3 - Comparative Analysis:**\n",
        "\n",
        "**Task - 1 - Setup Task - Preparing the Middle Eastern Dataset:**\n",
        "\n",
        "Tasks:\n",
        "1. Similar in Task - 1 of Problem 2 create a dataframe from middle eastern countries. For hint use the\n",
        "following list:\n",
        "middle east countries = [ \"Bahrain\", \"Iran\", \"Iraq\", \"Israel\", \"Jordan\",\n",
        "\"Kuwait\", \"Lebanon\", \"Oman\", \"Palestine\", \"Qatar\", \"Saudi Arabia\", \"Syria\",\n",
        "\n",
        "\"United Arab Emirates\", \"Yemen\"]\n",
        "\n",
        "Complete the following task:\n",
        "1. Descriptive Statistics:\n",
        "• Calculate the mean, Standard deviation of the score for both South Asia and Middle East.\n",
        "• Which region has higher happiness Scores on average?\n",
        "2. Top and Bottom Performers:\n",
        "• Identify the top 3 and bottom 3 countries in each region based on the score.\n",
        "• Plot bar charts comparing these charts.\n",
        "3. Metric Comparisons:\n",
        "• Compare key metrics like GDP per Capita, Social Support, and Healthy Life Expectancy\n",
        "between the regions using grouped bar charts.\n",
        "• Which metrics show the largest disparity between the two regions?\n",
        "4. Happiness Disparity:\n",
        "• Compute the range (max - min) and coefficient of variation (CV) for Score in both regions.\n",
        "• Which region has greater variability in happiness?\n",
        "5. Correlation Analysis:\n",
        "• Analyze the correlation of Score with other metrics Freedom to Make Life Choices, and\n",
        "Generosity within each region.\n",
        "• Create scatter plots to visualize and interpret the relationships.\n",
        "6. Outlier Detection:\n",
        "• Identify outlier countries in both regions based on Score and GDP per Capita.\n",
        "• Plot these outliers and discuss their implications.\n",
        "7. Visualization:\n",
        "• Create boxplots comparing the distribution of Score between South Asia and the Middle East.\n",
        "• Interpret the key differences in distribution shapes, medians, and outliers."
      ],
      "metadata": {
        "id": "GUflDDe38fzL"
      }
    },
    {
      "cell_type": "code",
      "source": [
        "#Task 1: Preparing the Middle Eastern Dataset\n",
        "#Step 1: Create a DataFrame for Middle Eastern Countries\n",
        "# Define Middle Eastern countries\n",
        "middle_east_countries = [\"Bahrain\", \"Iran\", \"Iraq\", \"Israel\", \"Jordan\",\n",
        "                         \"Kuwait\", \"Lebanon\", \"Oman\", \"Palestine\", \"Qatar\",\n",
        "                         \"Saudi Arabia\", \"Syria\", \"United Arab Emirates\", \"Yemen\"]\n",
        "\n",
        "# Filter dataset for Middle Eastern countries\n",
        "middle_east_df = happiness_df[happiness_df['Country'].isin(middle_east_countries)].copy()\n",
        "\n",
        "# Display the filtered dataset\n",
        "print(middle_east_df)\n"
      ],
      "metadata": {
        "id": "55xTzg-d9SPY"
      },
      "execution_count": null,
      "outputs": []
    },
    {
      "cell_type": "code",
      "source": [
        "#1. Descriptive Statistics\n",
        "# Calculate mean and standard deviation for South Asia and Middle East\n",
        "south_asia_mean = south_asia_df['Score'].mean()\n",
        "south_asia_std = south_asia_df['Score'].std()\n",
        "\n",
        "middle_east_mean = middle_east_df['Score'].mean()\n",
        "middle_east_std = middle_east_df['Score'].std()\n",
        "\n",
        "# Display results\n",
        "print(f\"South Asia - Mean Score: {south_asia_mean}, Standard Deviation: {south_asia_std}\")\n",
        "print(f\"Middle East - Mean Score: {middle_east_mean}, Standard Deviation: {middle_east_std}\")\n",
        "\n",
        "# Determine which region has higher scores on average\n",
        "region_comparison = \"South Asia\" if south_asia_mean > middle_east_mean else \"Middle East\"\n",
        "print(f\"The region with higher happiness scores on average is: {region_comparison}\")\n"
      ],
      "metadata": {
        "id": "axKyBYCE88Do"
      },
      "execution_count": null,
      "outputs": []
    },
    {
      "cell_type": "code",
      "source": [
        "#2. Top and Bottom Performers\n",
        "# South Asia top 3 and bottom 3\n",
        "south_asia_top = south_asia_df.nlargest(3, 'Score')[['Country', 'Score']]\n",
        "south_asia_bottom = south_asia_df.nsmallest(3, 'Score')[['Country', 'Score']]\n",
        "\n",
        "# Middle East top 3 and bottom 3\n",
        "middle_east_top = middle_east_df.nlargest(3, 'Score')[['Country', 'Score']]\n",
        "middle_east_bottom = middle_east_df.nsmallest(3, 'Score')[['Country', 'Score']]\n",
        "\n",
        "print(\"South Asia Top Performers:\\n\", south_asia_top)\n",
        "print(\"South Asia Bottom Performers:\\n\", south_asia_bottom)\n",
        "print(\"Middle East Top Performers:\\n\", middle_east_top)\n",
        "print(\"Middle East Bottom Performers:\\n\", middle_east_bottom)\n"
      ],
      "metadata": {
        "id": "MXwy-Oh59gcy"
      },
      "execution_count": null,
      "outputs": []
    },
    {
      "cell_type": "code",
      "source": [
        "import matplotlib.pyplot as plt\n",
        "\n",
        "# Plot South Asia Top and Bottom Performers\n",
        "plt.figure(figsize=(10, 5))\n",
        "plt.bar(south_asia_top['Country'], south_asia_top['Score'], color='blue', label='Top Performers')\n",
        "plt.bar(south_asia_bottom['Country'], south_asia_bottom['Score'], color='red', label='Bottom Performers')\n",
        "plt.title('South Asia: Top and Bottom Performers')\n",
        "plt.ylabel('Score')\n",
        "plt.legend()\n",
        "plt.show()\n",
        "\n",
        "# Plot Middle East Top and Bottom Performers\n",
        "plt.figure(figsize=(10, 5))\n",
        "plt.bar(middle_east_top['Country'], middle_east_top['Score'], color='blue', label='Top Performers')\n",
        "plt.bar(middle_east_bottom['Country'], middle_east_bottom['Score'], color='red', label='Bottom Performers')\n",
        "plt.title('Middle East: Top and Bottom Performers')\n",
        "plt.ylabel('Score')\n",
        "plt.legend()\n",
        "plt.show()\n"
      ],
      "metadata": {
        "id": "VMQWqH5z9m1A"
      },
      "execution_count": null,
      "outputs": []
    },
    {
      "cell_type": "code",
      "source": [
        "#3. Metric Comparisons\n",
        "import numpy as np\n",
        "\n",
        "# Calculate mean for each metric in both regions\n",
        "metrics = ['GDP per Capita', 'Social Support', 'Healthy Life Expectancy']\n",
        "south_asia_means = south_asia_df[metrics].mean()\n",
        "middle_east_means = middle_east_df[metrics].mean()\n",
        "\n",
        "# Create grouped bar chart\n",
        "x = np.arange(len(metrics))\n",
        "width = 0.35\n",
        "\n",
        "plt.figure(figsize=(10, 6))\n",
        "plt.bar(x - width/2, south_asia_means, width, label='South Asia', color='blue')\n",
        "plt.bar(x + width/2, middle_east_means, width, label='Middle East', color='orange')\n",
        "plt.xticks(x, metrics)\n",
        "plt.ylabel('Mean Value')\n",
        "plt.title('Comparison of Key Metrics Between South Asia and Middle East')\n",
        "plt.legend()\n",
        "plt.show()\n",
        "\n",
        "# Identify the metric with largest disparity\n",
        "disparity = abs(south_asia_means - middle_east_means)\n",
        "largest_disparity_metric = disparity.idxmax()\n",
        "print(f\"Metric with largest disparity: {largest_disparity_metric}\")\n"
      ],
      "metadata": {
        "id": "4m4v1uUN9ra1"
      },
      "execution_count": null,
      "outputs": []
    },
    {
      "cell_type": "code",
      "source": [
        "#4. Happiness Disparity\n",
        "# Compute range and CV for both regions\n",
        "south_asia_range = south_asia_df['Score'].max() - south_asia_df['Score'].min()\n",
        "middle_east_range = middle_east_df['Score'].max() - middle_east_df['Score'].min()\n",
        "\n",
        "south_asia_cv = south_asia_std / south_asia_mean\n",
        "middle_east_cv = middle_east_std / middle_east_mean\n",
        "\n",
        "print(f\"South Asia - Range: {south_asia_range}, CV: {south_asia_cv}\")\n",
        "print(f\"Middle East - Range: {middle_east_range}, CV: {middle_east_cv}\")\n",
        "\n",
        "# Determine region with greater variability\n",
        "greater_variability = \"South Asia\" if south_asia_cv > middle_east_cv else \"Middle East\"\n",
        "print(f\"The region with greater variability in happiness is: {greater_variability}\")\n"
      ],
      "metadata": {
        "id": "2p2l4Ugp91rF"
      },
      "execution_count": null,
      "outputs": []
    },
    {
      "cell_type": "code",
      "source": [
        "#5. Correlation Analysis\n",
        "# Calculate correlations\n",
        "metrics_to_analyze = ['Freedom to Make Life Choices', 'Generosity']\n",
        "south_asia_corr = south_asia_df[metrics_to_analyze + ['Score']].corr()['Score']\n",
        "middle_east_corr = middle_east_df[metrics_to_analyze + ['Score']].corr()['Score']\n",
        "\n",
        "print(\"South Asia Correlations:\\n\", south_asia_corr)\n",
        "print(\"Middle East Correlations:\\n\", middle_east_corr)\n",
        "\n",
        "# Plot scatter plots with trendlines\n",
        "import seaborn as sns\n",
        "\n",
        "for metric in metrics_to_analyze:\n",
        "    plt.figure(figsize=(8, 6))\n",
        "    sns.regplot(data=south_asia_df, x=metric, y='Score', label='South Asia', color='blue')\n",
        "    sns.regplot(data=middle_east_df, x=metric, y='Score', label='Middle East', color='orange')\n",
        "    plt.title(f'Correlation of {metric} with Score')\n",
        "    plt.legend()\n",
        "    plt.show()\n"
      ],
      "metadata": {
        "id": "1suktP2C9935"
      },
      "execution_count": null,
      "outputs": []
    },
    {
      "cell_type": "code",
      "source": [
        "#6. Outlier Detection\n",
        "# Define outliers\n",
        "def detect_outliers(data, column):\n",
        "    Q1 = data[column].quantile(0.25)\n",
        "    Q3 = data[column].quantile(0.75)\n",
        "    IQR = Q3 - Q1\n",
        "    lower_bound = Q1 - 1.5 * IQR\n",
        "    upper_bound = Q3 + 1.5 * IQR\n",
        "    return data[(data[column] < lower_bound) | (data[column] > upper_bound)]\n",
        "\n",
        "# Detect outliers in both regions\n",
        "south_asia_outliers = detect_outliers(south_asia_df, 'Score')\n",
        "middle_east_outliers = detect_outliers(middle_east_df, 'Score')\n",
        "\n",
        "print(\"South Asia Outliers:\\n\", south_asia_outliers)\n",
        "print(\"Middle East Outliers:\\n\", middle_east_outliers)\n",
        "\n",
        "# Scatter plot highlighting outliers\n",
        "plt.figure(figsize=(10, 6))\n",
        "plt.scatter(south_asia_df['GDP per Capita'], south_asia_df['Score'], label='South Asia', color='blue')\n",
        "plt.scatter(middle_east_df['GDP per Capita'], middle_east_df['Score'], label='Middle East', color='orange')\n",
        "plt.scatter(south_asia_outliers['GDP per Capita'], south_asia_outliers['Score'], label='South Asia Outliers', color='red')\n",
        "plt.scatter(middle_east_outliers['GDP per Capita'], middle_east_outliers['Score'], label='Middle East Outliers', color='green')\n",
        "plt.xlabel('GDP per Capita')\n",
        "plt.ylabel('Score')\n",
        "plt.title('Outlier Detection')\n",
        "plt.legend()\n",
        "plt.show()\n"
      ],
      "metadata": {
        "id": "OCO9o2ga-Fu4"
      },
      "execution_count": null,
      "outputs": []
    },
    {
      "cell_type": "code",
      "source": [
        "#7. Visualization\n",
        "# Create boxplots\n",
        "plt.figure(figsize=(8, 6))\n",
        "sns.boxplot(data=[south_asia_df['Score'], middle_east_df['Score']], palette=['blue', 'orange'])\n",
        "plt.xticks([0, 1], ['South Asia', 'Middle East'])\n",
        "plt.title('Distribution of Score Between South Asia and Middle East')\n",
        "plt.ylabel('Score')\n",
        "plt.show()\n"
      ],
      "metadata": {
        "id": "U1vXG8gw-NFG"
      },
      "execution_count": null,
      "outputs": []
    }
  ]
}